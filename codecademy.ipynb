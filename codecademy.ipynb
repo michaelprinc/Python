{
  "nbformat": 4,
  "nbformat_minor": 0,
  "metadata": {
    "colab": {
      "name": "Untitled1.ipynb",
      "provenance": [],
      "include_colab_link": true
    },
    "kernelspec": {
      "name": "python3",
      "display_name": "Python 3"
    }
  },
  "cells": [
    {
      "cell_type": "markdown",
      "metadata": {
        "id": "view-in-github",
        "colab_type": "text"
      },
      "source": [
        "<a href=\"https://colab.research.google.com/github/michaelprinc/Python/blob/master/codecademy.ipynb\" target=\"_parent\"><img src=\"https://colab.research.google.com/assets/colab-badge.svg\" alt=\"Open In Colab\"/></a>"
      ]
    },
    {
      "cell_type": "code",
      "metadata": {
        "id": "YQoPXvo9Z0SN",
        "colab_type": "code",
        "colab": {
          "base_uri": "https://localhost:8080/",
          "height": 85
        },
        "outputId": "2b42c24e-7c82-45c4-d942-35a203b41671"
      },
      "source": [
        "libraries = [\"NumPy\", \"SciPy\", \"Pandas\", \"Matplotlib\", \"Seaborn\"]\n",
        "completion = [100, 100, 96, 0, 0]\n",
        "\n",
        "libraries.append(\"scikit-learn\")\n",
        "completion.append(0)\n",
        "\n",
        "gradebook = list(zip(libraries, completion))\n",
        "\n",
        "print(\"Lesson Completion Rates:\")\n",
        "print(gradebook)\n",
        "print(\"\\n\")\n",
        "\n",
        "# What's next?\n",
        "\n",
        "# gradebook.append((\"BeautifulSoup\", 0))\n",
        "# gradebook.append((\"Tensorflow\", 0))"
      ],
      "execution_count": 1,
      "outputs": [
        {
          "output_type": "stream",
          "text": [
            "Lesson Completion Rates:\n",
            "[('NumPy', 100), ('SciPy', 100), ('Pandas', 96), ('Matplotlib', 0), ('Seaborn', 0), ('scikit-learn', 0)]\n",
            "\n",
            "\n"
          ],
          "name": "stdout"
        }
      ]
    }
  ]
}